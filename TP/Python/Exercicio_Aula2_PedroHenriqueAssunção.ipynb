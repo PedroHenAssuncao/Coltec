{
  "nbformat": 4,
  "nbformat_minor": 0,
  "metadata": {
    "colab": {
      "name": "Exercicio_Aula2_PedroHenriqueAssunção.ipynb",
      "provenance": [],
      "collapsed_sections": []
    },
    "kernelspec": {
      "name": "python3",
      "display_name": "Python 3"
    },
    "language_info": {
      "name": "python"
    }
  },
  "cells": [
    {
      "cell_type": "code",
      "metadata": {
        "id": "_6eOQC6WKflk",
        "colab": {
          "base_uri": "https://localhost:8080/"
        },
        "outputId": "6768b2c6-6312-4f2f-b641-c555f51a4000"
      },
      "source": [
        "# Exercicio 1\n",
        "\n",
        "Lista = []\n",
        "\n",
        "for i in range(int(input(\"Quantos itens tera na lista: \"))):\n",
        "  Lista.append(int(input(\"Qual o valor da posição %d: \" % i)))\n",
        "\n",
        "\n",
        "print(\"A soma dos valores da lista é: %d\" % sum(Lista))\n",
        "\n",
        "print(\"A media dos valores da lista é: %.02f\" % (sum(Lista)/len(Lista)))\n",
        "\n",
        "print(\"O maior valor da lista é: %d\" % max(Lista))\n",
        "print(\"O menor valor da lista é: %d\" % min(Lista))\n",
        "\n",
        "print(\"A quantidade de 0 da lista é: %d\" % Lista.count(0))\n"
      ],
      "execution_count": null,
      "outputs": [
        {
          "output_type": "stream",
          "text": [
            "Quantos itens tera na lista: 5\n",
            "Qual o valor da posição 0: 0\n",
            "Qual o valor da posição 1: 1\n",
            "Qual o valor da posição 2: 2\n",
            "Qual o valor da posição 3: 0\n",
            "Qual o valor da posição 4: 6\n",
            "A soma dos valores da lista é: 9\n",
            "A media dos valores da lista é: 1.80\n",
            "O maior valor da lista é: 6\n",
            "O menor valor da lista é: 0\n",
            "A quantidade de 0 da lista é: 2\n"
          ],
          "name": "stdout"
        }
      ]
    },
    {
      "cell_type": "code",
      "metadata": {
        "colab": {
          "base_uri": "https://localhost:8080/"
        },
        "id": "g2qyhscAPUBa",
        "outputId": "1b9a18dd-4c03-48d5-d971-ca9eb54ef37f"
      },
      "source": [
        "# Exercicio 2\n",
        "\n",
        "Lista = []\n",
        "\n",
        "Lista = input(\"Digite os nomes: \").split(\" \")\n",
        "\n",
        "ListaPos = []\n",
        "\n",
        "ListaOrdenada = sorted(Lista)\n",
        "\n",
        "print(ListaOrdenada)\n",
        "\n",
        "for i in range(len(Lista)):\n",
        "  ListaPos.append(Lista.index(ListaOrdenada[i]))\n",
        "\n",
        "print(ListaPos)"
      ],
      "execution_count": null,
      "outputs": [
        {
          "output_type": "stream",
          "text": [
            "Digite os nomes: Pão de batata\n",
            "['Pão', 'batata', 'de']\n",
            "[0, 2, 1]\n"
          ],
          "name": "stdout"
        }
      ]
    },
    {
      "cell_type": "code",
      "metadata": {
        "colab": {
          "base_uri": "https://localhost:8080/"
        },
        "id": "eT3p59KiTHCv",
        "outputId": "b466cbfa-3390-4e5a-a73e-dc281aabf43d"
      },
      "source": [
        "# Exercicio 3\n",
        "\n",
        "Lista = []\n",
        "\n",
        "Lista  = input().split(\" \")\n",
        "\n",
        "SegundoLugar = 0\n",
        "\n",
        "TerceiroLugar = 0\n",
        "\n",
        "print(\"Primeiro colocado: %d,%d\" % (Lista.index(max(Lista)),int(max(Lista))))\n",
        "\n",
        "for i in range(0,len(Lista)):\n",
        "  if(int(SegundoLugar) < int(Lista[i]) and Lista[i] != max(Lista)):\n",
        "    SegundoLugar = Lista[i]\n",
        "\n",
        "print(\"O segundo lugar é: %d,%d\" % (Lista.index(SegundoLugar),int(SegundoLugar)))\n",
        "\n",
        "for i in range(0,len(Lista)):\n",
        "  if(int(TerceiroLugar) < int(Lista[i]) and Lista[i] != max(Lista) and Lista[i] != SegundoLugar):\n",
        "    TerceiroLugar = Lista[i]\n",
        "\n",
        "print(\"O Terceiro lugar é: %d,%d\" % (Lista.index(TerceiroLugar),int(TerceiroLugar)))"
      ],
      "execution_count": null,
      "outputs": [
        {
          "output_type": "stream",
          "text": [
            "1 2 3 4\n",
            "Primeiro colocado: 3,4\n",
            "O segundo lugar é: 2,3\n",
            "O Terceiro lugar é: 1,2\n"
          ],
          "name": "stdout"
        }
      ]
    },
    {
      "cell_type": "code",
      "metadata": {
        "colab": {
          "base_uri": "https://localhost:8080/"
        },
        "id": "H2zrY_iAyH1v",
        "outputId": "e420c1e4-ac3e-4c23-b364-52e9cb3e98ac"
      },
      "source": [
        "# Exercicio 4\n",
        "\n",
        "Lista = []\n",
        "\n",
        "for i in range(int(input(\"Quantos itens tera na lista: \"))):\n",
        "  Lista.append(input().split(\" \"))\n",
        "\n",
        "ListaNomes = []\n",
        "ListaPrecos = []\n",
        "\n",
        "for i in range(len(Lista)):\n",
        "  for j in range(len(Lista[i])):\n",
        "    if Lista[i][j].isnumeric():\n",
        "      ListaPrecos.append(float(Lista[i][j]))\n",
        "    else:\n",
        "      ListaNomes.append(Lista[i][j])\n",
        "\n",
        "ListaNomesOrd = []\n",
        "\n",
        "ListaNomesOrd = ListaNomes.copy()\n",
        "\n",
        "ListaNomesOrd.sort()\n",
        "\n",
        "ListaPrecosOrd = [ListaPrecos[ListaNomes.index(i)] for i in ListaNomesOrd]\n",
        "\n",
        "print(ListaNomes)\n",
        "print(ListaPrecos)\n",
        "print(ListaNomesOrd)\n",
        "print(ListaPrecosOrd)"
      ],
      "execution_count": null,
      "outputs": [
        {
          "output_type": "stream",
          "text": [
            "Quantos itens tera na lista: 3\n",
            "Pao 1\n",
            "Presunto 2\n",
            "Mussarela 7\n",
            "['Pao', 'Presunto', 'Mussarela']\n",
            "[1.0, 2.0, 7.0]\n",
            "['Mussarela', 'Pao', 'Presunto']\n",
            "[7.0, 1.0, 2.0]\n"
          ],
          "name": "stdout"
        }
      ]
    },
    {
      "cell_type": "code",
      "metadata": {
        "id": "YT6AB04e0eb3",
        "colab": {
          "base_uri": "https://localhost:8080/"
        },
        "outputId": "54ab4640-200e-4e43-bbac-9ce3f4f2bf22"
      },
      "source": [
        "# Exercicio 5\n",
        "\n",
        "Lista = list(map(int,input(\"Digite numeros inteiros\").split(\" \")))\n",
        "\n",
        "ListaQuadrado = [i**2 for i in Lista]\n",
        "\n",
        "print(ListaQuadrado)\n",
        "\n"
      ],
      "execution_count": null,
      "outputs": [
        {
          "output_type": "stream",
          "text": [
            "Digite numeros inteiros1 2 3 4\n",
            "[1, 4, 9, 16]\n"
          ],
          "name": "stdout"
        }
      ]
    },
    {
      "cell_type": "code",
      "metadata": {
        "id": "x8BGsyyr7Kph",
        "colab": {
          "base_uri": "https://localhost:8080/"
        },
        "outputId": "dacb0bae-36aa-4fd4-f63d-5a02b394f298"
      },
      "source": [
        "# Exercicio 6\n",
        "\n",
        "\n",
        "Lista = list(map(int,input(\"Digite a 1# linha da matriz: \").split(\" \")))\n",
        "\n",
        "matriz = []\n",
        "\n",
        "matriz.append(Lista)\n",
        "\n",
        "for i in range(2, len(Lista) + 1):\n",
        "  Listaaux = list(map(int,input(\"Digite a linha %d# da matriz: \" % i).split(\" \")))\n",
        "\n",
        "  matriz.append(Listaaux)\n",
        "\n",
        "print(matriz)\n",
        "\n",
        "print(\"A soma da diagonal é: %d\" % sum(matriz[i][i] for i in range(len(Lista))))"
      ],
      "execution_count": 35,
      "outputs": [
        {
          "output_type": "stream",
          "text": [
            "Digite a 1# linha da matriz: 1 2 3\n",
            "Digite a linha 2# da matriz: 4 5 6\n",
            "Digite a linha 3# da matriz: 7 8 9\n",
            "[[1, 2, 3], [4, 5, 6], [7, 8, 9]]\n",
            "A soma da diagonal é: 15\n"
          ],
          "name": "stdout"
        }
      ]
    },
    {
      "cell_type": "code",
      "metadata": {
        "colab": {
          "base_uri": "https://localhost:8080/",
          "height": 130
        },
        "id": "j3aq5s4cyrTg",
        "outputId": "8dd000de-8159-4061-8283-158728573e8a"
      },
      "source": [
        "# Exercicio 7\n",
        "\n",
        "import random\n",
        "\n",
        "def Length(Lista):\n",
        "  n = int(input(\"Digite um numero: \"))\n",
        "\n",
        "  num_strings = 0\n",
        "\n",
        "  for i in Lista:\n",
        "    if(len(i) > n): num_strings = num_strings + 1\n",
        "  \n",
        "  print(\"Existem %d strings maiores que %d\" % (num_strings, n))\n",
        "\n",
        "def Vogais(Lista):\n",
        "\n",
        "  Lista_Vogais = []\n",
        "\n",
        "  for i in Lista:\n",
        "    num_vogais = 0\n",
        "    for j in range(0, len(i)):\n",
        "      if(i[j] == 'a' or i[j] == 'e' or i[j] == 'i' or i[j] == 'o' or i[j] == 'u' or i[j] == 'A' or i[j] == 'E' or i[j] == 'I' or i[j] == 'O' or i[j] == 'U'):\n",
        "        num_vogais = num_vogais + 1\n",
        "\n",
        "    Lista_Vogais.append(num_vogais) \n",
        "    \n",
        "  \n",
        "  print(Lista_Vogais)\n",
        "\n",
        "def Group_by_Length(Lista):\n",
        "\n",
        "  lista = Lista.copy()\n",
        "  Lista.sort(key= lambda i: len(i))\n",
        "  Lista_agrupamento = []\n",
        "\n",
        "  while len(lista) != 0:\n",
        "    Tamanho_atual = len(lista[0])\n",
        "    listaaux = [i for i in lista if len(i) == Tamanho_atual]\n",
        "    lista = [i for i in lista if len(i) > Tamanho_atual]\n",
        "    Lista_agrupamento.append(listaaux)\n",
        "  \n",
        "  print(Lista_agrupamento)\n",
        "\n",
        "def Criptografar(Lista):\n",
        "  key = random.randint(0,10)\n",
        "  lista_cripto = [''.join(chr(ord) + key) for c in l ) for l in Lista]\n",
        "\n",
        "  print(f\"Lista criptografada {lista_cripto} e a chave é {key}\")\n",
        "\n",
        "print(\"Bem vindo!\")\n",
        "\n",
        "Lista = input(\"Digite uma sequencia de palavras pra continuar: \").split(\" \")\n",
        "\n",
        "Fechar_programa = False\n",
        "\n",
        "while(Fechar_programa != True):\n",
        "  print(\"Pronto agora escolha alguma coisa para ver oq acontece com a string\")\n",
        "  print(\"(1)Descobrir quantas palavras do mesmo tamanho\")\n",
        "  print(\"(2)Quantas vogais tem em cada palavra\")\n",
        "  print(\"(3)Agrupar palavras do mesmo tamanho\")\n",
        "  print(\"(4)Cryptografar\")\n",
        "  print(\"(0)sair\")\n",
        "  op = int(input(\">\"))\n",
        "\n",
        "  if(op == 1):\n",
        "\n",
        "    Length(Lista)\n",
        "  \n",
        "  elif(op == 2):\n",
        "\n",
        "    Vogais(Lista)\n",
        "  \n",
        "  elif(op == 3):\n",
        "\n",
        "    Group_by_Length(Lista)\n",
        "\n",
        "  elif(op == 4):\n",
        "\n",
        "    Criptografar(Lista)\n",
        "\n",
        "  else:\n",
        "\n",
        "    Fechar_programa = True\n",
        "\n",
        "print(\"Tchau!\")"
      ],
      "execution_count": 74,
      "outputs": [
        {
          "output_type": "error",
          "ename": "SyntaxError",
          "evalue": "ignored",
          "traceback": [
            "\u001b[0;36m  File \u001b[0;32m\"<ipython-input-74-dc4a78fbe540>\"\u001b[0;36m, line \u001b[0;32m46\u001b[0m\n\u001b[0;31m    lista_cripto = list(''.join(chr(ord) + key) for c in l ) for l in Lista)\u001b[0m\n\u001b[0m                                                               ^\u001b[0m\n\u001b[0;31mSyntaxError\u001b[0m\u001b[0;31m:\u001b[0m invalid syntax\n"
          ]
        }
      ]
    }
  ]
}