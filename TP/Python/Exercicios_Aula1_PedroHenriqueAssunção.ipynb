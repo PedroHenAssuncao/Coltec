{
 "cells": [
  {
   "cell_type": "code",
   "execution_count": 2,
   "id": "d380cb6c",
   "metadata": {},
   "outputs": [
    {
     "name": "stdout",
     "output_type": "stream",
     "text": [
      "Digite um número: 1\n",
      "Digite outro número: 2\n",
      "Digite outro número: 3\n",
      "1.00 + 2.00 + 3.00 = 6.00\n"
     ]
    }
   ],
   "source": [
    "# Exercicio 1\n",
    "\n",
    "numero1 = float(input(\"Digite um número: \"))\n",
    "numero2 = float(input(\"Digite outro número: \"))\n",
    "numero3 = float(input(\"Digite outro número: \"))\n",
    "\n",
    "print('%.02f + %.02f + %.02f = %.02f' % (numero1, numero2, numero3, numero1+numero2+numero3))"
   ]
  },
  {
   "cell_type": "code",
   "execution_count": 8,
   "id": "9ea2ae48",
   "metadata": {},
   "outputs": [
    {
     "name": "stdout",
     "output_type": "stream",
     "text": [
      "Digite a temperatura em graus celsius: 27.5\n",
      "27.5°C em Fahrenheit é: 81°F\n"
     ]
    }
   ],
   "source": [
    "# Exercicio 2\n",
    "\n",
    "TempCelsius = float(input(\"Digite a temperatura em graus celsius: \"))\n",
    "\n",
    "print('%.01f°C em Fahrenheit é: %d°F' % (TempCelsius, int(TempCelsius*(9.0/5.0)+32.0)))"
   ]
  },
  {
   "cell_type": "code",
   "execution_count": 9,
   "id": "56ae618c",
   "metadata": {},
   "outputs": [
    {
     "name": "stdout",
     "output_type": "stream",
     "text": [
      "Digite um valor em Reais: R$5.27\n",
      "Digite quantos reais está valendo 1 dolar: R$5.27\n",
      "5.27R$ em dolares: U$ 1.00\n"
     ]
    }
   ],
   "source": [
    "# Exercicio 3\n",
    "\n",
    "ValorEmReal = float(input('Digite um valor em Reais: R$'))\n",
    "CotacaoDolar = float(input('Digite quantos reais está valendo 1 dolar: R$'))\n",
    "\n",
    "print('%.02fR$ em dolares: U$ %.02f' % (ValorEmReal,ValorEmReal/CotacaoDolar))"
   ]
  },
  {
   "cell_type": "code",
   "execution_count": 13,
   "id": "d8d277ec",
   "metadata": {},
   "outputs": [
    {
     "name": "stdout",
     "output_type": "stream",
     "text": [
      "Digite quantos dias o encanador trabalhou: 3\n",
      "O encanador deverá receber: R$82.80\n"
     ]
    }
   ],
   "source": [
    "# Exercicio 4\n",
    "\n",
    "DiasTrabalhados = int(input('Digite quantos dias o encanador trabalhou: '))\n",
    "\n",
    "print('O encanador deverá receber: R$%.02f' % (30*DiasTrabalhados-0.08*(30*DiasTrabalhados)))"
   ]
  },
  {
   "cell_type": "code",
   "execution_count": 14,
   "id": "6462eced",
   "metadata": {},
   "outputs": [
    {
     "name": "stdout",
     "output_type": "stream",
     "text": [
      "Digite o valor do cateto A: 2\n",
      "Digite o valor do cateto B: 5\n",
      "Digite o valor do cateto C: 12\n",
      "A área do triângulo é: 28\n"
     ]
    }
   ],
   "source": [
    "# Exercicio 5\n",
    "\n",
    "import math\n",
    "\n",
    "CatetoA = int(input('Digite o valor do cateto A: '))\n",
    "CatetoB = int(input('Digite o valor do cateto B: '))\n",
    "HipotenusaC = int(input('Digite o valor do cateto C: '))\n",
    "\n",
    "S = (CatetoA+CatetoB+HipotenusaC)/2\n",
    "\n",
    "print('A área do triângulo é: %d' % (math.sqrt(S*(CatetoA-S)*(CatetoB-S)*(HipotenusaC-S))))"
   ]
  },
  {
   "cell_type": "code",
   "execution_count": 10,
   "id": "24dedb76",
   "metadata": {},
   "outputs": [
    {
     "name": "stdout",
     "output_type": "stream",
     "text": [
      "Digite o valor do primeiro número: 3\n",
      "Digite o valor do segundo número: 3\n",
      "Os números são iguais\n"
     ]
    }
   ],
   "source": [
    "#Exercicios 6\n",
    "\n",
    "Valor1 = int(input('Digite o valor do primeiro número: '))\n",
    "Valor2 = int(input('Digite o valor do segundo número: '))\n",
    "\n",
    "if(Valor1 > Valor2):\n",
    "    \n",
    "    print('O maior valor é: %d \\nE a diferença entre os números é %d' % (Valor1, Valor1-Valor2))\n",
    "\n",
    "elif(Valor2 > Valor1):\n",
    "    \n",
    "    print('O maior valor é: %d \\nE a diferença entre os números é %d' % (Valor2, Valor2-Valor1))\n",
    "    \n",
    "else:\n",
    "    \n",
    "    print('Os números são iguais')"
   ]
  },
  {
   "cell_type": "code",
   "execution_count": 13,
   "id": "011717fa",
   "metadata": {},
   "outputs": [
    {
     "name": "stdout",
     "output_type": "stream",
     "text": [
      "Digite um ano: 2000\n",
      "2000 é um ano bissexto\n"
     ]
    }
   ],
   "source": [
    "# Exercicio 7\n",
    "\n",
    "Ano = int(input('Digite um ano: '))\n",
    "\n",
    "if(Ano%400 == 0 or (Ano%100 != 0 and Ano%4 == 0)):\n",
    "    \n",
    "    print('%d é um ano bissexto' % (Ano))\n",
    "    \n",
    "else:\n",
    "    \n",
    "    print('%d não é um ano bissexto' % (Ano))"
   ]
  },
  {
   "cell_type": "code",
   "execution_count": 1,
   "id": "795cbe03",
   "metadata": {},
   "outputs": [
    {
     "name": "stdout",
     "output_type": "stream",
     "text": [
      "Digite um numero: 35\n",
      "True\n"
     ]
    }
   ],
   "source": [
    "# Exercicio 8\n",
    "\n",
    "Numero = int(input('Digite um numero: '))\n",
    "\n",
    "if(Numero % 3 == 0 and Numero % 5 == 0):\n",
    "    print('False')\n",
    "    \n",
    "elif(Numero % 3 == 0 or Numero % 5 == 0):\n",
    "    print('True')\n",
    "    \n",
    "else:\n",
    "    print('False')"
   ]
  },
  {
   "cell_type": "code",
   "execution_count": 3,
   "id": "40f9d187",
   "metadata": {},
   "outputs": [
    {
     "name": "stdout",
     "output_type": "stream",
     "text": [
      "Digite o sexo(M ou F): M\n",
      "Digite a idade: 62\n",
      "Digite o tempo de trabalho: 29\n",
      "Pode aposentar!\n"
     ]
    }
   ],
   "source": [
    "# Exercicio 9\n",
    "\n",
    "Sexo = str(input('Digite o sexo(M ou F): '))\n",
    "Idade = int(input('Digite a idade: '))\n",
    "TempoTrab = int(input('Digite o tempo de trabalho: '))\n",
    "\n",
    "if((Sexo == 'M' and Idade >= 65) or (Sexo == 'F' and Idade >= 60)):\n",
    "    print('Pode aposentar!')\n",
    "    \n",
    "elif(TempoTrab >= 30):\n",
    "    print('Pode aposentar!')\n",
    "\n",
    "elif(Idade >= 60 and TempoTrab >= 25):\n",
    "    print('Pode aposentar!')\n",
    "\n",
    "else:\n",
    "    print('Vai trabalhar vagabundo!')"
   ]
  },
  {
   "cell_type": "code",
   "execution_count": 4,
   "id": "a705588e",
   "metadata": {},
   "outputs": [
    {
     "name": "stdout",
     "output_type": "stream",
     "text": [
      "Digite a altura: 1.66\n",
      "Digite o peso: 61\n",
      "Sua classificação é E\n"
     ]
    }
   ],
   "source": [
    "# Exercicio 10\n",
    "\n",
    "Altura = float(input('Digite a altura: '))\n",
    "Peso = float(input('Digite o peso: '))\n",
    "\n",
    "if(Altura < 1.50):\n",
    "    if(Peso <= 60):\n",
    "        print('Sua classificação é A')\n",
    "    \n",
    "    elif(Peso > 60 and Peso <= 90):\n",
    "        print('Sua classificação é D')\n",
    "    \n",
    "    else:\n",
    "        print('Sua classificação é G')\n",
    "\n",
    "elif(Altura >= 1.50 and Altura < 1.80):\n",
    "    if(Peso <= 60):\n",
    "        print('Sua classificação é B')\n",
    "    \n",
    "    elif(Peso > 60 and Peso <= 90):\n",
    "        print('Sua classificação é E')\n",
    "    \n",
    "    else:\n",
    "        print('Sua classificação é H')\n",
    "\n",
    "else:\n",
    "    if(Peso <= 60):\n",
    "        print('Sua classificação é C')\n",
    "    \n",
    "    elif(Peso > 60 and Peso <= 90):\n",
    "        print('Sua classificação é F')\n",
    "    \n",
    "    else:\n",
    "        print('Sua classificação é I')\n",
    "    "
   ]
  },
  {
   "cell_type": "code",
   "execution_count": 11,
   "id": "215adb2d",
   "metadata": {},
   "outputs": [
    {
     "name": "stdout",
     "output_type": "stream",
     "text": [
      "Selecione a média desejada: \n",
      "1- Geométrica: \n",
      "2- Ponderada: \n",
      "3- Harmônica: \n",
      "4- Aritmética: \n",
      "4\n",
      "Digite o primeiro numero: 1\n",
      "Digite o segundo numero: 1\n",
      "Digite o terceiro numero: 1\n",
      "1.0\n"
     ]
    }
   ],
   "source": [
    "# Exercicio 11\n",
    "\n",
    "def geometrica(x,y,z):\n",
    "    return (x*y*z)**(1/3)\n",
    "\n",
    "def ponderada(x,y,z):\n",
    "    return (x+2*y+3*z)/6\n",
    "\n",
    "def harmonica(x,y,z):\n",
    "    return 1/((1/x)+(1/y)+(1/z))\n",
    "\n",
    "def aritmetica(x,y,z):\n",
    "    return (x+y+z)/3\n",
    "\n",
    "print(\"Selecione a média desejada: \")\n",
    "print(\"1- Geométrica: \")\n",
    "print(\"2- Ponderada: \")\n",
    "print(\"3- Harmônica: \")\n",
    "print(\"4- Aritmética: \")\n",
    "opcao = int(input())\n",
    "\n",
    "x = int(input('Digite o primeiro numero: '))\n",
    "y = int(input('Digite o segundo numero: '))\n",
    "z = int(input('Digite o terceiro numero: '))\n",
    "\n",
    "if(opcao == 1):\n",
    "    print(geometrica(x,y,z))\n",
    "\n",
    "elif(opcao == 2):\n",
    "    print(ponderada(x,y,z))\n",
    "    \n",
    "elif(opcao == 3):\n",
    "    print(harmonica(x,y,z))\n",
    "\n",
    "elif(opcao == 4):\n",
    "    print(aritmetica(x,y,z))\n",
    "\n",
    "else:\n",
    "    print('Opção inválida!')"
   ]
  },
  {
   "cell_type": "code",
   "execution_count": 12,
   "id": "c61b8deb",
   "metadata": {},
   "outputs": [
    {
     "name": "stdout",
     "output_type": "stream",
     "text": [
      "Digite 2 números para tirar o mdc: \n",
      "429\n",
      "182\n",
      "13\n"
     ]
    }
   ],
   "source": [
    "# Exercicio 12\n",
    "\n",
    "def mdc(x, y):\n",
    "    return x if not y else mdc(y, x % y)\n",
    "\n",
    "print('Digite 2 números para tirar o mdc: ')\n",
    "x = int(input())\n",
    "y = int(input())\n",
    "\n",
    "print(mdc(x,y))"
   ]
  },
  {
   "cell_type": "code",
   "execution_count": 3,
   "id": "ad1c823c",
   "metadata": {},
   "outputs": [
    {
     "name": "stdout",
     "output_type": "stream",
     "text": [
      "Digite 2 numeros\n",
      "-3\n",
      "7\n",
      "-3\n",
      "-1\n",
      "1\n",
      "3\n",
      "5\n"
     ]
    }
   ],
   "source": [
    "# Exercicio 13\n",
    "\n",
    "NumeroTeste = 2\n",
    "\n",
    "print('Digite 2 numeros')\n",
    "\n",
    "numero1 = int(input())\n",
    "numero2 = int(input())\n",
    "\n",
    "i = numero1\n",
    "\n",
    "while(i < numero2):\n",
    "    \n",
    "    if(i % NumeroTeste != 0):\n",
    "        print(i)\n",
    "    \n",
    "    i = i + 1"
   ]
  },
  {
   "cell_type": "code",
   "execution_count": 6,
   "id": "94c7b1b7",
   "metadata": {},
   "outputs": [
    {
     "name": "stdout",
     "output_type": "stream",
     "text": [
      "6\n",
      "\n",
      "1\n",
      "23\n",
      "456\n",
      "78910\n",
      "1112131415\n",
      "161718192021\n"
     ]
    }
   ],
   "source": [
    "# Exercicio 14\n",
    "\n",
    "Linhas = int(input())\n",
    "i = 0\n",
    "j = 0\n",
    "m = 0\n",
    "numero = 1\n",
    "\n",
    "for i in range(Linhas + 1):\n",
    "    \n",
    "    m = m + 1\n",
    "    \n",
    "    for j in range(1,m):\n",
    "        \n",
    "        print(numero, end = '')\n",
    "        \n",
    "        numero = numero + 1\n",
    "    \n",
    "    print('')\n",
    "    "
   ]
  },
  {
   "cell_type": "code",
   "execution_count": 9,
   "id": "f6ad0bb9",
   "metadata": {},
   "outputs": [
    {
     "name": "stdout",
     "output_type": "stream",
     "text": [
      "Digite o valor do vale alimentação: 2\n",
      "Digite o valor do vale transporte: 2\n",
      "Digite a quantidade de metros quadrados trabalhados: 10\n",
      "O pedreiro deve receber: 121.00\n"
     ]
    }
   ],
   "source": [
    "#  Exercicio 15\n",
    "\n",
    "ValeAlim = float(input('Digite o valor do vale alimentação: '))\n",
    "ValeTrans = 2*(float(input('Digite o valor do vale transporte: ')))\n",
    "MetrosQ = int(input('Digite a quantidade de metros quadrados trabalhados: '))\n",
    "\n",
    "if(MetrosQ < 10):\n",
    "    print('O pedreiro deve receber: %.02f' % (ValeAlim + ValeTrans + (MetrosQ*10)))\n",
    "    \n",
    "elif(MetrosQ >= 10 and MetrosQ < 20 ):\n",
    "    print('O pedreiro deve receber: %.02f' % (ValeAlim + ValeTrans + (MetrosQ*11.5)))\n",
    "    \n",
    "else:\n",
    "    print('O pedreiro deve receber: %.02f' % (ValeAlim + ValeTrans + (MetrosQ*13)))"
   ]
  },
  {
   "cell_type": "code",
   "execution_count": 10,
   "id": "dd4b6093",
   "metadata": {},
   "outputs": [
    {
     "name": "stdout",
     "output_type": "stream",
     "text": [
      "Digite o numero de termos: 20\n",
      "Digite o termo inicial: 1\n",
      "Digite a razão real: 2.7\n",
      "533.0\n"
     ]
    }
   ],
   "source": [
    "# Exercicio 16\n",
    "\n",
    "Numtermos = int(input('Digite o numero de termos: '))\n",
    "inicial = int(input('Digite o termo inicial: '))\n",
    "Razao = float(input('Digite a razão real: '))\n",
    "\n",
    "x = inicial + (Numtermos - 1) * Razao\n",
    "\n",
    "print(((inicial + x)*Numtermos)/2)"
   ]
  },
  {
   "cell_type": "code",
   "execution_count": 14,
   "id": "a99933ff",
   "metadata": {},
   "outputs": [
    {
     "name": "stdout",
     "output_type": "stream",
     "text": [
      "Digite um número para ver seus multiplos: 3\n",
      "Digite até qual número voce quer ver os multiplos: 21\n",
      "0, 3, 6, 9, 12, 15, 18, 21, "
     ]
    }
   ],
   "source": [
    "# Exercicio 17\n",
    "\n",
    "x = int(input('Digite um número para ver seus multiplos: '))\n",
    "limite = int(input('Digite até qual número voce quer ver os multiplos: '))\n",
    "i = 0\n",
    "\n",
    "for i in range(limite + 1):\n",
    "    \n",
    "    if(i % x == 0):\n",
    "        print('%d, ' % i, end = '')"
   ]
  }
 ],
 "metadata": {
  "kernelspec": {
   "display_name": "Python 3",
   "language": "python",
   "name": "python3"
  },
  "language_info": {
   "codemirror_mode": {
    "name": "ipython",
    "version": 3
   },
   "file_extension": ".py",
   "mimetype": "text/x-python",
   "name": "python",
   "nbconvert_exporter": "python",
   "pygments_lexer": "ipython3",
   "version": "3.8.8"
  }
 },
 "nbformat": 4,
 "nbformat_minor": 5
}
